{
 "cells": [
  {
   "cell_type": "markdown",
   "metadata": {},
   "source": [
    "# Regularization in Deep Learning"
   ]
  },
  {
   "cell_type": "markdown",
   "metadata": {},
   "source": [
    "## Part 1 - Data Analysis"
   ]
  },
  {
   "cell_type": "code",
   "execution_count": 92,
   "metadata": {},
   "outputs": [],
   "source": [
    "##load dataset\n",
    "\n",
    "from sklearn.datasets import make_moons\n",
    "from matplotlib import pyplot\n",
    "import pandas as pd\n",
    "import numpy as np\n",
    "\n",
    "\n",
    "\n",
    "## sklearn make_moons creates a dataset containing two half moons labeled as 0,1\n",
    "## All the ponits of each half moon is a 2d coordinate (x,y) \n",
    "X,y = make_moons(n_samples=100,noise=0.2,random_state=1)"
   ]
  },
  {
   "cell_type": "code",
   "execution_count": 93,
   "metadata": {},
   "outputs": [
    {
     "name": "stdout",
     "output_type": "stream",
     "text": [
      "(100, 2)\n",
      "(100,)\n",
      "features are i.e X:  [[ 1.36698238 -0.23541584]\n",
      " [ 1.76404402 -0.34563288]\n",
      " [-0.37868174  0.41004375]\n",
      " [ 1.15113747 -0.13597622]\n",
      " [ 2.31168314  0.32295125]\n",
      " [ 0.53866045  0.73704603]\n",
      " [-0.93583639  1.00686001]\n",
      " [ 1.32563024 -0.13540284]\n",
      " [ 0.75398022 -0.37261326]\n",
      " [ 0.42764536 -0.38163078]\n",
      " [ 1.86426147 -0.04447877]\n",
      " [-0.83255618  0.71258899]\n",
      " [ 0.22507434  0.27186939]\n",
      " [ 0.21098847  0.2244366 ]\n",
      " [ 0.05359594  0.20843943]\n",
      " [-0.14691002  0.85157719]\n",
      " [-0.75060111  0.86559773]\n",
      " [-0.91043983  0.56466749]\n",
      " [ 1.21265683 -0.6289975 ]\n",
      " [ 0.64660318  0.72011433]\n",
      " [ 0.68237381  0.08692362]\n",
      " [ 0.61031853 -0.48706856]\n",
      " [ 1.99715631  0.24389764]\n",
      " [ 0.2077874  -0.42914145]\n",
      " [ 0.35027414  0.74199317]\n",
      " [-0.68407286  0.66774772]\n",
      " [ 1.76290471  0.02997561]\n",
      " [-0.13029538  0.8163553 ]\n",
      " [-1.34872432 -0.03686236]\n",
      " [-0.879935    0.82462905]\n",
      " [ 0.69322932 -0.08679283]\n",
      " [ 2.30858186  0.41045366]\n",
      " [-0.32283333 -0.11202163]\n",
      " [ 1.76628178  0.16627015]\n",
      " [ 1.86869763  0.11172855]\n",
      " [-0.81925203  0.48890104]\n",
      " [-1.07708794 -0.07841617]\n",
      " [-0.10935722 -0.21307804]\n",
      " [-0.00275911  0.96708982]\n",
      " [-0.74705081  1.02954741]\n",
      " [ 1.72626831 -0.15849493]\n",
      " [-0.04902655  0.33099072]\n",
      " [ 1.27447994 -0.34985574]\n",
      " [ 0.91687068  0.33577803]\n",
      " [ 1.21815598 -0.34586299]\n",
      " [-0.886625    0.65913593]\n",
      " [-0.89381479  0.15139579]\n",
      " [ 1.72422728 -0.04288797]\n",
      " [ 0.13871945  1.04830955]\n",
      " [ 1.69682347  0.64749479]\n",
      " [-0.89185761  0.7268536 ]\n",
      " [-0.09457701  0.28788561]\n",
      " [-0.10713202  1.35521438]\n",
      " [ 1.15027259  0.41680378]\n",
      " [ 0.27096453 -0.02497953]\n",
      " [-1.04069441  0.08443341]\n",
      " [ 0.49389774  0.9326833 ]\n",
      " [ 1.98289223 -0.5145263 ]\n",
      " [ 0.96245599  0.13005483]\n",
      " [ 1.01374105 -0.59939387]\n",
      " [-0.35030927  0.87891408]\n",
      " [ 0.46258369 -0.30221636]\n",
      " [ 0.52237109 -0.4723288 ]\n",
      " [-0.69719401  0.43550886]\n",
      " [-1.34861991  0.18401244]\n",
      " [ 1.95593429 -0.154812  ]\n",
      " [ 0.85676993  0.58746968]\n",
      " [ 0.38380987 -0.467539  ]\n",
      " [ 1.05339036 -0.02197593]\n",
      " [ 1.69685427 -0.20380166]\n",
      " [ 0.02257804  0.17118028]\n",
      " [ 0.19671026  1.25356483]\n",
      " [ 0.31211999 -0.4038874 ]\n",
      " [ 0.30297732 -0.35095037]\n",
      " [ 1.11049974  0.47772861]\n",
      " [ 1.84316777  0.4702879 ]\n",
      " [ 0.59461521  0.46711159]\n",
      " [ 0.85910841 -0.61549596]\n",
      " [ 1.53155945 -0.23913659]\n",
      " [ 0.57626466  0.44048843]\n",
      " [-0.54006984  0.8207721 ]\n",
      " [-0.21688266  0.89003157]\n",
      " [ 0.79663915  0.43646711]\n",
      " [ 0.34766968  0.67404085]\n",
      " [ 0.05729368  1.14428225]\n",
      " [ 0.01880585  0.80152232]\n",
      " [ 0.19365301  1.02502389]\n",
      " [ 0.91263139  0.25941005]\n",
      " [ 0.87687967 -0.24754412]\n",
      " [ 1.24458793 -0.29829832]\n",
      " [ 1.13563866 -0.01844365]\n",
      " [ 0.56108207  0.74148383]\n",
      " [ 0.39594945 -0.55451261]\n",
      " [ 1.2732289  -0.27501367]\n",
      " [ 0.99787163  0.36511184]\n",
      " [ 1.05718954 -0.72446734]\n",
      " [ 0.53858125  0.51049197]\n",
      " [ 0.65792377 -1.03466843]\n",
      " [ 1.12996342  0.70867167]\n",
      " [-1.04121655  0.88339745]]\n",
      "classes are i.e. y:  [1 1 0 1 1 0 0 1 1 1 1 0 1 1 1 0 0 0 1 0 0 1 1 1 0 0 1 0 0 0 1 1 1 1 1 0 0\n",
      " 1 0 0 1 1 1 0 1 0 0 1 0 1 0 1 0 0 1 0 0 1 0 1 0 1 1 0 0 1 0 1 0 1 1 0 1 1\n",
      " 0 1 0 1 1 0 0 0 0 0 0 1 0 0 1 1 0 0 1 1 0 1 0 1 0 0]\n"
     ]
    }
   ],
   "source": [
    "## see the data\n",
    "\n",
    "print(X.shape)\n",
    "print(y.shape)\n",
    "print('features are i.e X: ',X)\n",
    "print('classes are i.e. y: ',y)"
   ]
  },
  {
   "cell_type": "code",
   "execution_count": 94,
   "metadata": {},
   "outputs": [],
   "source": [
    "## creating a dictionary having three elements. x,y,label below are keys. the values being assigned are values.\n",
    "## each of these key value pairs becomes a column each  when we make a pandas dataframe out of python dictionary \n",
    "\n",
    "df = pd.DataFrame(dict(x = X[:,0],y = X[:,1],label = y))"
   ]
  },
  {
   "cell_type": "code",
   "execution_count": 95,
   "metadata": {},
   "outputs": [
    {
     "name": "stdout",
     "output_type": "stream",
     "text": [
      "key is : 0\n",
      "group for the key is :\n",
      "           x         y  label\n",
      "2  -0.378682  0.410044      0\n",
      "5   0.538660  0.737046      0\n",
      "6  -0.935836  1.006860      0\n",
      "11 -0.832556  0.712589      0\n",
      "15 -0.146910  0.851577      0\n",
      "16 -0.750601  0.865598      0\n",
      "17 -0.910440  0.564667      0\n",
      "19  0.646603  0.720114      0\n",
      "20  0.682374  0.086924      0\n",
      "24  0.350274  0.741993      0\n",
      "25 -0.684073  0.667748      0\n",
      "27 -0.130295  0.816355      0\n",
      "28 -1.348724 -0.036862      0\n",
      "29 -0.879935  0.824629      0\n",
      "35 -0.819252  0.488901      0\n",
      "36 -1.077088 -0.078416      0\n",
      "38 -0.002759  0.967090      0\n",
      "39 -0.747051  1.029547      0\n",
      "43  0.916871  0.335778      0\n",
      "45 -0.886625  0.659136      0\n",
      "46 -0.893815  0.151396      0\n",
      "48  0.138719  1.048310      0\n",
      "50 -0.891858  0.726854      0\n",
      "52 -0.107132  1.355214      0\n",
      "53  1.150273  0.416804      0\n",
      "55 -1.040694  0.084433      0\n",
      "56  0.493898  0.932683      0\n",
      "58  0.962456  0.130055      0\n",
      "60 -0.350309  0.878914      0\n",
      "63 -0.697194  0.435509      0\n",
      "64 -1.348620  0.184012      0\n",
      "66  0.856770  0.587470      0\n",
      "68  1.053390 -0.021976      0\n",
      "71  0.196710  1.253565      0\n",
      "74  1.110500  0.477729      0\n",
      "76  0.594615  0.467112      0\n",
      "79  0.576265  0.440488      0\n",
      "80 -0.540070  0.820772      0\n",
      "81 -0.216883  0.890032      0\n",
      "82  0.796639  0.436467      0\n",
      "83  0.347670  0.674041      0\n",
      "84  0.057294  1.144282      0\n",
      "86  0.193653  1.025024      0\n",
      "87  0.912631  0.259410      0\n",
      "90  1.135639 -0.018444      0\n",
      "91  0.561082  0.741484      0\n",
      "94  0.997872  0.365112      0\n",
      "96  0.538581  0.510492      0\n",
      "98  1.129963  0.708672      0\n",
      "99 -1.041217  0.883397      0\n",
      "key is : 1\n",
      "group for the key is :\n",
      "           x         y  label\n",
      "0   1.366982 -0.235416      1\n",
      "1   1.764044 -0.345633      1\n",
      "3   1.151137 -0.135976      1\n",
      "4   2.311683  0.322951      1\n",
      "7   1.325630 -0.135403      1\n",
      "8   0.753980 -0.372613      1\n",
      "9   0.427645 -0.381631      1\n",
      "10  1.864261 -0.044479      1\n",
      "12  0.225074  0.271869      1\n",
      "13  0.210988  0.224437      1\n",
      "14  0.053596  0.208439      1\n",
      "18  1.212657 -0.628997      1\n",
      "21  0.610319 -0.487069      1\n",
      "22  1.997156  0.243898      1\n",
      "23  0.207787 -0.429141      1\n",
      "26  1.762905  0.029976      1\n",
      "30  0.693229 -0.086793      1\n",
      "31  2.308582  0.410454      1\n",
      "32 -0.322833 -0.112022      1\n",
      "33  1.766282  0.166270      1\n",
      "34  1.868698  0.111729      1\n",
      "37 -0.109357 -0.213078      1\n",
      "40  1.726268 -0.158495      1\n",
      "41 -0.049027  0.330991      1\n",
      "42  1.274480 -0.349856      1\n",
      "44  1.218156 -0.345863      1\n",
      "47  1.724227 -0.042888      1\n",
      "49  1.696823  0.647495      1\n",
      "51 -0.094577  0.287886      1\n",
      "54  0.270965 -0.024980      1\n",
      "57  1.982892 -0.514526      1\n",
      "59  1.013741 -0.599394      1\n",
      "61  0.462584 -0.302216      1\n",
      "62  0.522371 -0.472329      1\n",
      "65  1.955934 -0.154812      1\n",
      "67  0.383810 -0.467539      1\n",
      "69  1.696854 -0.203802      1\n",
      "70  0.022578  0.171180      1\n",
      "72  0.312120 -0.403887      1\n",
      "73  0.302977 -0.350950      1\n",
      "75  1.843168  0.470288      1\n",
      "77  0.859108 -0.615496      1\n",
      "78  1.531559 -0.239137      1\n",
      "85  0.018806  0.801522      1\n",
      "88  0.876880 -0.247544      1\n",
      "89  1.244588 -0.298298      1\n",
      "92  0.395949 -0.554513      1\n",
      "93  1.273229 -0.275014      1\n",
      "95  1.057190 -0.724467      1\n",
      "97  0.657924 -1.034668      1\n"
     ]
    },
    {
     "data": {
      "image/png": "[encoded data removed]",
      "text/plain": [
       "<Figure size 432x288 with 1 Axes>"
      ]
     },
     "metadata": {
      "needs_background": "light"
     },
     "output_type": "display_data"
    }
   ],
   "source": [
    "###lets visualize these two half moons\n",
    "## drawing a scatter plot in loop . it creates a different color for the data drawn in each iteration of loop\n",
    "## if we put pyplot.show() in the loop, it creates a separate plot for each iteration because everytime its called the existing plot will be shown\n",
    "\n",
    "grouped = df.groupby('label')\n",
    "\n",
    "for key,group in grouped:\n",
    "    print('key is :',key)\n",
    "    print('group for the key is :')\n",
    "    print(group)\n",
    "    pyplot.scatter(group.x,group.y)\n",
    "\n",
    "pyplot.show() # plot gets drawn by default at the end of loop(not at each iteration) if we dont call this\n"
   ]
  },
  {
   "cell_type": "markdown",
   "metadata": {},
   "source": [
    "### It can be seen that data plotted in two different colors is two half moons\n",
    "\n",
    "### This data can't be separated by using a linear classifier(without any transformations of input data). So this data seems a good dataset for fitting a neural network\n"
   ]
  },
  {
   "cell_type": "code",
   "execution_count": null,
   "metadata": {},
   "outputs": [],
   "source": []
  },
  {
   "cell_type": "markdown",
   "metadata": {},
   "source": [
    "## Part 2 - Multi Layer Perceptron without Regularization to demo overfitting"
   ]
  },
  {
   "cell_type": "code",
   "execution_count": 96,
   "metadata": {},
   "outputs": [
    {
     "data": {
      "text/plain": [
       "'\\nlets build a Multi Layer Perceptron and demo regualrization.\\n\\nTo demo regularization use, lets first fit a unregualrized model which overfits\\n'"
      ]
     },
     "execution_count": 96,
     "metadata": {},
     "output_type": "execute_result"
    }
   ],
   "source": [
    "'''\n",
    "lets build a Multi Layer Perceptron and demo regualrization.\n",
    "\n",
    "To demo regularization use, lets first fit a unregualrized model which overfits\n",
    "'''"
   ]
  },
  {
   "cell_type": "code",
   "execution_count": 97,
   "metadata": {},
   "outputs": [
    {
     "name": "stdout",
     "output_type": "stream",
     "text": [
      "train data shape is :  (30, 2) (30,)\n",
      "test_data shape is :  (70, 2) (70,)\n"
     ]
    }
   ],
   "source": [
    "### The data has two class labels : 0,1\n",
    "###Lets develop a Multi Layer perceptron model to fit this binary classification problem.\n",
    "\n",
    "## generate 2d classification dataset\n",
    "\n",
    "X,y = make_moons(n_samples = 100, noise=0.2,random_state=1) # same dataset as visualized above. just recreating it.\n",
    "\n",
    "## split into train and test data\n",
    "\n",
    "# no. of samples for training. our goal is to overfit the model to demo regualrization use.selecting small subset of data.\n",
    "n_train = 30\n",
    "\n",
    "## lets first split input features i.e coordinates\n",
    "train_X,test_X = X[:n_train,:],X[n_train:,:]\n",
    "\n",
    "## split lables\n",
    "train_y,test_y = y[:n_train],y[n_train:]\n",
    "\n",
    "print('train data shape is : ',train_X.shape,train_y.shape)\n",
    "print('test_data shape is : ',test_X.shape,test_y.shape)\n"
   ]
  },
  {
   "cell_type": "code",
   "execution_count": 98,
   "metadata": {},
   "outputs": [
    {
     "name": "stdout",
     "output_type": "stream",
     "text": [
      "Model: \"feed_forward_model_1\"\n",
      "_________________________________________________________________\n",
      "Layer (type)                 Output Shape              Param #   \n",
      "=================================================================\n",
      "hidden_dense_layer_1_with_re (None, 500)               1500      \n",
      "_________________________________________________________________\n",
      "output_dense_layer_with_sigm (None, 1)                 501       \n",
      "=================================================================\n",
      "Total params: 2,001\n",
      "Trainable params: 2,001\n",
      "Non-trainable params: 0\n",
      "_________________________________________________________________\n",
      "None\n"
     ]
    }
   ],
   "source": [
    "## Lets define a model with one hidden layer containing 500 nodes and the rectified linear activation function\n",
    "## Lets define model output layer with a single node with sigmoid activation function to predict 0,1.\n",
    "\n",
    "from tensorflow.keras.models import Sequential\n",
    "from tensorflow.keras.layers import Dense\n",
    "\n",
    "model = Sequential(name='feed_forward_model_1')\n",
    "model.add(Dense(500,input_dim = 2,activation='relu',name='hidden_dense_layer_1_with_relu'))\n",
    "model.add(Dense(1,activation='sigmoid',name='output_dense_layer_with_sigmoid'))\n",
    "print(model.summary())"
   ]
  },
  {
   "cell_type": "code",
   "execution_count": 99,
   "metadata": {},
   "outputs": [],
   "source": [
    "## Now we have model defined. Lets specify the loss function to optimize on ,optimizer and metrics we want to see\n",
    "\n",
    "model.compile(loss = 'binary_crossentropy',optimizer='adam',metrics=['accuracy'])"
   ]
  },
  {
   "cell_type": "code",
   "execution_count": 100,
   "metadata": {},
   "outputs": [
    {
     "data": {
      "text/plain": [
       "<tensorflow.python.keras.callbacks.History at 0x7f88468a69d0>"
      ]
     },
     "execution_count": 100,
     "metadata": {},
     "output_type": "execute_result"
    }
   ],
   "source": [
    "##fit model\n",
    "\n",
    "model.fit(train_X,train_y,epochs=4000,verbose=0)"
   ]
  },
  {
   "cell_type": "code",
   "execution_count": 101,
   "metadata": {},
   "outputs": [
    {
     "name": "stdout",
     "output_type": "stream",
     "text": [
      "30/30 [==============================] - 0s 10ms/sample - loss: 1.9676e-04 - acc: 1.0000\n",
      "70/70 [==============================] - 0s 53us/sample - loss: 0.5004 - acc: 0.9143\n",
      "train loss , accuracy is :  [0.0001967634743778035, 1.0]\n",
      "test loss , accuracy is :  [0.5004375383790051, 0.9142857]\n"
     ]
    }
   ],
   "source": [
    "\n",
    "##Lets evaluate the fitted model\n",
    "\n",
    "train_acc = model.evaluate(train_X,train_y,verbose=1)\n",
    "test_acc = model.evaluate(test_X,test_y,verbose=1)\n",
    "\n",
    "print('train loss , accuracy is : ',train_acc)\n",
    "print('test loss , accuracy is : ',test_acc)\n"
   ]
  },
  {
   "cell_type": "markdown",
   "metadata": {},
   "source": [
    "### we can see that training accuracy is much better than test accuracy. a possible sign of overfitting.\n",
    "\n",
    "### Lets fit again. this time let us plot the train and validation accuracies during training. If the model overfits we will be able to see initally accuracy improves for both train and validation data but later validation accuracy starts degrading while train accuracy improves\n",
    "\n",
    "\n"
   ]
  },
  {
   "cell_type": "code",
   "execution_count": 102,
   "metadata": {},
   "outputs": [
    {
     "name": "stdout",
     "output_type": "stream",
     "text": [
      "Model: \"feed_forward_model_1\"\n",
      "_________________________________________________________________\n",
      "Layer (type)                 Output Shape              Param #   \n",
      "=================================================================\n",
      "hidden_dense_layer_1_with_re (None, 500)               1500      \n",
      "_________________________________________________________________\n",
      "output_dense_layer_with_sigm (None, 1)                 501       \n",
      "=================================================================\n",
      "Total params: 2,001\n",
      "Trainable params: 2,001\n",
      "Non-trainable params: 0\n",
      "_________________________________________________________________\n",
      "None\n"
     ]
    }
   ],
   "source": [
    "\n",
    "## Lets refit the model from start\n",
    "\n",
    "from tensorflow.keras.models import Sequential\n",
    "from tensorflow.keras.layers import Dense\n",
    "\n",
    "model = Sequential(name='feed_forward_model_1')\n",
    "model.add(Dense(500,input_dim = 2,activation='relu',name='hidden_dense_layer_1_with_relu'))\n",
    "model.add(Dense(1,activation='sigmoid',name='output_dense_layer_with_sigmoid'))\n",
    "print(model.summary())\n",
    "\n",
    "\n",
    "model.compile(loss = 'binary_crossentropy',optimizer='adam',metrics=['accuracy'])\n",
    "\n",
    "model_history = model.fit(train_X,train_y,validation_data=(test_X,test_y),epochs=4000,verbose=0)\n",
    "\n",
    "\n",
    "\n"
   ]
  },
  {
   "cell_type": "code",
   "execution_count": 103,
   "metadata": {},
   "outputs": [
    {
     "data": {
      "image/png": "[encoded data removed]",
      "text/plain": [
       "<Figure size 432x288 with 1 Axes>"
      ]
     },
     "metadata": {
      "needs_background": "light"
     },
     "output_type": "display_data"
    },
    {
     "data": {
      "image/png": "[encoded data removed]",
      "text/plain": [
       "<Figure size 432x288 with 1 Axes>"
      ]
     },
     "metadata": {
      "needs_background": "light"
     },
     "output_type": "display_data"
    }
   ],
   "source": [
    "## lets plot and see how loss and accuracy changes over epochs while training model\n",
    "\n",
    "pyplot.plot(model_history.history['loss'],label='train_loss')\n",
    "pyplot.plot(model_history.history['val_loss'],label='validation_loss')\n",
    "pyplot.legend()\n",
    "pyplot.title('loss')\n",
    "pyplot.show()\n",
    "\n",
    "\n",
    "pyplot.plot(model_history.history['acc'],label='train_accuracy')\n",
    "pyplot.plot(model_history.history['val_acc'],label='validation_accuracy')\n",
    "pyplot.legend()\n",
    "pyplot.title('accuracy')\n",
    "pyplot.show()\n"
   ]
  },
  {
   "cell_type": "markdown",
   "metadata": {},
   "source": [
    "### We can see that the model loss for validation data starts incrceasing after some time while loss of training data kept decreasing. \n",
    "\n",
    "### Similarly accuracy of training data started improving and became closer to 1 , while validatoin data accuracy started to degrade after sometime.\n"
   ]
  },
  {
   "cell_type": "code",
   "execution_count": null,
   "metadata": {},
   "outputs": [],
   "source": []
  },
  {
   "cell_type": "markdown",
   "metadata": {},
   "source": [
    "## Part 3 - Multi Layer Perceptron with Regularization to prevent overfitting"
   ]
  },
  {
   "cell_type": "code",
   "execution_count": 104,
   "metadata": {},
   "outputs": [
    {
     "name": "stdout",
     "output_type": "stream",
     "text": [
      "Model: \"feed_forward_model_1\"\n",
      "_________________________________________________________________\n",
      "Layer (type)                 Output Shape              Param #   \n",
      "=================================================================\n",
      "hidden_dense_layer_1_with_re (None, 500)               1500      \n",
      "_________________________________________________________________\n",
      "output_dense_layer_with_sigm (None, 1)                 501       \n",
      "=================================================================\n",
      "Total params: 2,001\n",
      "Trainable params: 2,001\n",
      "Non-trainable params: 0\n",
      "_________________________________________________________________\n",
      "None\n",
      "30/30 [==============================] - 0s 49us/sample - loss: 0.0155 - acc: 1.0000\n",
      "70/70 [==============================] - 0s 88us/sample - loss: 0.2783 - acc: 0.9429\n",
      "train loss , accuracy is :  [0.0155413169413805, 1.0]\n",
      "test loss , accuracy is :  [0.2782659549798284, 0.94285715]\n"
     ]
    }
   ],
   "source": [
    "\n",
    "## Lets refit the model from start\n",
    "\n",
    "from tensorflow.keras.models import Sequential\n",
    "from tensorflow.keras.layers import Dense\n",
    "from tensorflow.keras.regularizers import l2\n",
    "\n",
    "model = Sequential(name='feed_forward_model_1')\n",
    "\n",
    "## adding 'L2' kernel regularizer to the dense hidden layer. This regularizes output of nodes\n",
    "model.add(Dense(500,input_dim = 2,activation='relu',kernel_regularizer = l2(0.001),name='hidden_dense_layer_1_with_relu'))\n",
    "model.add(Dense(1,activation='sigmoid',name='output_dense_layer_with_sigmoid'))\n",
    "print(model.summary())\n",
    "\n",
    "\n",
    "model.compile(loss = 'binary_crossentropy',optimizer='adam',metrics=['accuracy'])\n",
    "\n",
    "model.fit(train_X,train_y,validation_data=(test_X,test_y),epochs=4000,verbose=0)\n",
    "\n",
    "\n",
    "train_acc = model.evaluate(train_X,train_y,verbose=1)\n",
    "test_acc = model.evaluate(test_X,test_y,verbose=1)\n",
    "\n",
    "print('train loss , accuracy is : ',train_acc)\n",
    "print('test loss , accuracy is : ',test_acc)\n"
   ]
  },
  {
   "cell_type": "markdown",
   "metadata": {},
   "source": [
    "### When compared to model without regularizer earlier we can see that accuracy on test data has improved by 3% . i.e from 91% to 94%"
   ]
  },
  {
   "cell_type": "code",
   "execution_count": 105,
   "metadata": {},
   "outputs": [
    {
     "name": "stdout",
     "output_type": "stream",
     "text": [
      "Model: \"feed_forward_model_1\"\n",
      "_________________________________________________________________\n",
      "Layer (type)                 Output Shape              Param #   \n",
      "=================================================================\n",
      "hidden_dense_layer_1_with_re (None, 500)               1500      \n",
      "_________________________________________________________________\n",
      "output_dense_layer_with_sigm (None, 1)                 501       \n",
      "=================================================================\n",
      "Total params: 2,001\n",
      "Trainable params: 2,001\n",
      "Non-trainable params: 0\n",
      "_________________________________________________________________\n",
      "None\n"
     ]
    }
   ],
   "source": [
    "\n",
    "## Lets refit the model from start to see the plots.\n",
    "## This time instead of accuracy increasing and decreasing durining training it should continulaly increase\n",
    "\n",
    "from tensorflow.keras.models import Sequential\n",
    "from tensorflow.keras.layers import Dense\n",
    "from tensorflow.keras.regularizers import l2\n",
    "\n",
    "model = Sequential(name='feed_forward_model_1')\n",
    "\n",
    "## adding kernel regularizer to the dense hidden layer. This regularizes output of nodes\n",
    "model.add(Dense(500,input_dim = 2,activation='relu',kernel_regularizer = l2(0.001),name='hidden_dense_layer_1_with_relu'))\n",
    "model.add(Dense(1,activation='sigmoid',name='output_dense_layer_with_sigmoid'))\n",
    "print(model.summary())\n",
    "\n",
    "\n",
    "model.compile(loss = 'binary_crossentropy',optimizer='adam',metrics=['accuracy'])\n",
    "\n",
    "model_history = model.fit(train_X,train_y,validation_data=(test_X,test_y),epochs=4000,verbose=0)"
   ]
  },
  {
   "cell_type": "code",
   "execution_count": 106,
   "metadata": {},
   "outputs": [
    {
     "data": {
      "image/png": "[encoded data removed]",
      "text/plain": [
       "<Figure size 432x288 with 1 Axes>"
      ]
     },
     "metadata": {
      "needs_background": "light"
     },
     "output_type": "display_data"
    },
    {
     "data": {
      "image/png": "[encoded data removed]",
      "text/plain": [
       "<Figure size 432x288 with 1 Axes>"
      ]
     },
     "metadata": {
      "needs_background": "light"
     },
     "output_type": "display_data"
    }
   ],
   "source": [
    "pyplot.plot(model_history.history['loss'],label='train_loss')\n",
    "pyplot.plot(model_history.history['val_loss'],label='validation_loss')\n",
    "pyplot.title('loss')\n",
    "pyplot.legend()\n",
    "pyplot.show()\n",
    "\n",
    "pyplot.plot(model_history.history['acc'],label='train_accuracy')\n",
    "pyplot.plot(model_history.history['val_acc'],label='validation_accuracy')\n",
    "pyplot.title('loss')\n",
    "pyplot.legend()\n",
    "pyplot.show()"
   ]
  },
  {
   "cell_type": "markdown",
   "metadata": {},
   "source": [
    "### We can see that accuracy plot is continually increasing instead of increasing and then decreasing.\n",
    "\n",
    "### similarly loss on validation data has decreased and although there is a slight increase even now it didn't shoot up as much as in model without regularization.\n",
    "\n",
    "\n",
    "### Since it is evident now that weight regularization has improved model accuracy, let's try to identify better hyper paramater value which gives better accuracy."
   ]
  },
  {
   "cell_type": "code",
   "execution_count": null,
   "metadata": {},
   "outputs": [],
   "source": []
  },
  {
   "cell_type": "markdown",
   "metadata": {},
   "source": [
    "## Part 4 - MLP with regularization and grid search for hyper-paramater tuning"
   ]
  },
  {
   "cell_type": "code",
   "execution_count": 107,
   "metadata": {},
   "outputs": [
    {
     "name": "stdout",
     "output_type": "stream",
     "text": [
      "Param_Value : 0.100000 Train_loss : 0.389591 Test_loss  : 0.389591 Train accuracy : 0.928571 Test accuracy  : 0.928571 \n",
      "Param_Value : 0.010000 Train_loss : 0.354863 Test_loss  : 0.354863 Train accuracy : 0.928571 Test accuracy  : 0.928571 \n",
      "Param_Value : 0.001000 Train_loss : 0.338159 Test_loss  : 0.338159 Train accuracy : 0.928571 Test accuracy  : 0.928571 \n",
      "Param_Value : 0.000100 Train_loss : 0.359979 Test_loss  : 0.359979 Train accuracy : 0.885714 Test accuracy  : 0.885714 \n",
      "Param_Value : 0.000010 Train_loss : 0.531733 Test_loss  : 0.531733 Train accuracy : 0.914286 Test accuracy  : 0.914286 \n",
      "Param_Value : 0.000001 Train_loss : 7.492118 Test_loss  : 7.492118 Train accuracy : 0.514286 Test accuracy  : 0.514286 \n"
     ]
    }
   ],
   "source": [
    "\n",
    "# grid search values for hyperparamter regularization constant\n",
    "# first let's test different levels of hyper paramater values to see which level works better for this problem\n",
    "\n",
    "param_values = [1e-1,1e-2,1e-3,1e-4,1e-5,1e-6]\n",
    "\n",
    "\n",
    "from sklearn.datasets import make_moons\n",
    "from tensorflow.keras.models import Sequential\n",
    "from tensorflow.keras.layers import Dense\n",
    "from tensorflow.keras.regularizers import l2\n",
    "\n",
    "\n",
    "# data preparation\n",
    "X,y = make_moons(n_samples=100,noise=0.2,random_state=1)\n",
    "n_train = 30\n",
    "\n",
    "X_train,X_test = X[:n_train,:],X[n_train:,:]\n",
    "y_train,y_test = y[:n_train],y[n_train:]\n",
    "\n",
    "\n",
    "\n",
    "for param_value in param_values:\n",
    "    # define model\n",
    "\n",
    "    model = Sequential(name='MLP')\n",
    "    model.add(Dense(500,input_dim=2,activation ='relu',kernel_regularizer = l2(param_value),name='h1'))\n",
    "    model.add(Dense(1,name = 'output'))\n",
    "    model.compile(loss=['binary_crossentropy'],optimizer='adam',metrics=['accuracy'])\n",
    "    \n",
    "    # fit model\n",
    "    model.fit(X_train,y_train,epochs=4000,verbose=0) # not prinitng verbose as it will print a lot of info due to loop\n",
    "\n",
    "    \n",
    "    # evaluate the model\n",
    "    train_loss,train_accuracy = model.evaluate(X_test,y_test,verbose=0)\n",
    "    test_loss,test_accuracy = model.evaluate(X_test,y_test,verbose=0)\n",
    "\n",
    "    print('Param_Value : %f Train_loss : %f Test_loss  : %f Train accuracy : %f Test accuracy  : %f '%(param_value,train_loss,test_loss,train_accuracy,test_accuracy))\n",
    "\n"
   ]
  },
  {
   "cell_type": "markdown",
   "metadata": {},
   "source": [
    "### As we can see from results test data accuracy is best for parameter values : 0.01,0.001\n",
    "### Among param values 0.01 and 0.001, test_loss is better at 0.001\n",
    "### So we can conclude param values at the level of 0.001 are better. So, we can try to perform grid serach again around that level to finalize which param value to use as regularizaiton constant"
   ]
  },
  {
   "cell_type": "code",
   "execution_count": 108,
   "metadata": {},
   "outputs": [
    {
     "name": "stdout",
     "output_type": "stream",
     "text": [
      "Param_Value : 0.010000 Train_loss : 0.363466 Test_loss  : 0.363466 Train accuracy : 0.928571 Test accuracy  : 0.928571 \n",
      "Param_Value : 0.020000 Train_loss : 0.349295 Test_loss  : 0.349295 Train accuracy : 0.928571 Test accuracy  : 0.928571 \n",
      "Param_Value : 0.030000 Train_loss : 0.509602 Test_loss  : 0.509602 Train accuracy : 0.828571 Test accuracy  : 0.828571 \n",
      "Param_Value : 0.040000 Train_loss : 0.364407 Test_loss  : 0.364407 Train accuracy : 0.928571 Test accuracy  : 0.928571 \n",
      "Param_Value : 0.050000 Train_loss : 7.492118 Test_loss  : 7.492118 Train accuracy : 0.514286 Test accuracy  : 0.514286 \n",
      "Param_Value : 0.060000 Train_loss : 0.363302 Test_loss  : 0.363302 Train accuracy : 0.942857 Test accuracy  : 0.942857 \n",
      "Param_Value : 0.070000 Train_loss : 7.492118 Test_loss  : 7.492118 Train accuracy : 0.514286 Test accuracy  : 0.514286 \n",
      "Param_Value : 0.080000 Train_loss : 0.399935 Test_loss  : 0.399935 Train accuracy : 0.928571 Test accuracy  : 0.928571 \n",
      "Param_Value : 0.090000 Train_loss : 0.375596 Test_loss  : 0.375596 Train accuracy : 0.928571 Test accuracy  : 0.928571 \n",
      "Param_Value : 0.001000 Train_loss : 0.329030 Test_loss  : 0.329030 Train accuracy : 0.928571 Test accuracy  : 0.928571 \n",
      "Param_Value : 0.002000 Train_loss : 0.341738 Test_loss  : 0.341738 Train accuracy : 0.928571 Test accuracy  : 0.928571 \n",
      "Param_Value : 0.003000 Train_loss : 0.338077 Test_loss  : 0.338077 Train accuracy : 0.928571 Test accuracy  : 0.928571 \n",
      "Param_Value : 0.004000 Train_loss : 0.559372 Test_loss  : 0.559372 Train accuracy : 0.828571 Test accuracy  : 0.828571 \n",
      "Param_Value : 0.005000 Train_loss : 0.350331 Test_loss  : 0.350331 Train accuracy : 0.928571 Test accuracy  : 0.928571 \n",
      "Param_Value : 0.006000 Train_loss : 0.346315 Test_loss  : 0.346315 Train accuracy : 0.928571 Test accuracy  : 0.928571 \n",
      "Param_Value : 0.007000 Train_loss : 7.492118 Test_loss  : 7.492118 Train accuracy : 0.514286 Test accuracy  : 0.514286 \n",
      "Param_Value : 0.008000 Train_loss : 0.353321 Test_loss  : 0.353321 Train accuracy : 0.928571 Test accuracy  : 0.928571 \n",
      "Param_Value : 0.009000 Train_loss : 7.492118 Test_loss  : 7.492118 Train accuracy : 0.514286 Test accuracy  : 0.514286 \n"
     ]
    }
   ],
   "source": [
    "\n",
    "# grid search values for hyperparamter regularization constant\n",
    "# let's test for values around 0.001 for hyper paramater to see values works better for this problem\n",
    "\n",
    "import numpy as np\n",
    "\n",
    "param_values_1 = np.linspace(0.01,0.09,9)\n",
    "param_values_2 = np.linspace(0.001,0.009,9)\n",
    "param_values = np.append(param_values_1,param_values_2)\n",
    "\n",
    "\n",
    "from sklearn.datasets import make_moons\n",
    "from tensorflow.keras.models import Sequential\n",
    "from tensorflow.keras.layers import Dense\n",
    "from tensorflow.keras.regularizers import l2\n",
    "\n",
    "\n",
    "# data preparation\n",
    "X,y = make_moons(n_samples=100,noise=0.2,random_state=1)\n",
    "n_train = 30\n",
    "\n",
    "X_train,X_test = X[:n_train,:],X[n_train:,:]\n",
    "y_train,y_test = y[:n_train],y[n_train:]\n",
    "\n",
    "\n",
    "\n",
    "for param_value in param_values:\n",
    "    # define model\n",
    "\n",
    "    model = Sequential(name='MLP')\n",
    "    model.add(Dense(500,input_dim=2,activation ='relu',kernel_regularizer = l2(param_value),name='h1'))\n",
    "    model.add(Dense(1,name = 'output'))\n",
    "    model.compile(loss=['binary_crossentropy'],optimizer='adam',metrics=['accuracy'])\n",
    "    \n",
    "    # fit model\n",
    "    model.fit(X_train,y_train,epochs=4000,verbose=0) # not prinitng verbose as it will print a lot of info due to loop\n",
    "\n",
    "    \n",
    "    # evaluate the model\n",
    "    train_loss,train_accuracy = model.evaluate(X_test,y_test,verbose=0)\n",
    "    test_loss,test_accuracy = model.evaluate(X_test,y_test,verbose=0)\n",
    "\n",
    "    print('Param_Value : %f Train_loss : %f Test_loss  : %f Train accuracy : %f Test accuracy  : %f '%(param_value,train_loss,test_loss,train_accuracy,test_accuracy))\n",
    "\n"
   ]
  },
  {
   "cell_type": "markdown",
   "metadata": {},
   "source": [
    "### test accuracy seems to be very similar for values around .001. So, Let's conclude some value around 0.001 as best hyper paramater value.\n",
    "\n",
    "### However, randomly for some param values , accuracy seems very bad. This tells there is some inconistency with model reusts. We can't assure  that same results will get generated if model is run twice.\n",
    "\n",
    "### Figure out what is the cause.  Is this because of not initializing weights?"
   ]
  },
  {
   "cell_type": "code",
   "execution_count": null,
   "metadata": {},
   "outputs": [],
   "source": []
  },
  {
   "cell_type": "code",
   "execution_count": null,
   "metadata": {},
   "outputs": [],
   "source": []
  }
 ],
 "metadata": {
  "kernelspec": {
   "display_name": "Python 3",
   "language": "python",
   "name": "python3"
  },
  "language_info": {
   "codemirror_mode": {
    "name": "ipython",
    "version": 3
   },
   "file_extension": ".py",
   "mimetype": "text/x-python",
   "name": "python",
   "nbconvert_exporter": "python",
   "pygments_lexer": "ipython3",
   "version": "3.7.7"
  }
 },
 "nbformat": 4,
 "nbformat_minor": 4
}
